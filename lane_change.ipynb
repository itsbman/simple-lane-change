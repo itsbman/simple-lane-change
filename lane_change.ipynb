{
  "nbformat": 4,
  "nbformat_minor": 0,
  "metadata": {
    "colab": {
      "name": "lane_change.ipynb",
      "provenance": [],
      "collapsed_sections": []
    },
    "kernelspec": {
      "name": "python3",
      "display_name": "Python 3"
    },
    "language_info": {
      "name": "python"
    }
  },
  "cells": [
    {
      "cell_type": "code",
      "metadata": {
        "id": "NFrXcgFEUOta"
      },
      "source": [
        "%matplotlib inline\n",
        "import time\n",
        "import numpy as np\n",
        "import matplotlib.pyplot as plt\n",
        "from IPython import display"
      ],
      "execution_count": null,
      "outputs": []
    },
    {
      "cell_type": "code",
      "metadata": {
        "id": "Gzgd9b65S4Yu"
      },
      "source": [
        "x = np.arange(0, 100, 0.5)\n",
        "y_1 = np.full(x.shape, 2)\n",
        "y_2 = np.full(x.shape, 6)\n",
        "\n",
        "lane_1 = np.vstack((x, y_1)).transpose()\n",
        "lane_2 = np.vstack((x, y_2)).transpose()\n",
        "\n",
        "dt = 0.1\n",
        "INIT_STATE = (0, 2, 0, 10)\n",
        "TARGET_SPEED = 10\n",
        "STOP = 90"
      ],
      "execution_count": null,
      "outputs": []
    },
    {
      "cell_type": "code",
      "metadata": {
        "id": "Z4Xlgx5KVrdy"
      },
      "source": [
        "def get_waypoint_pos(pos, waypoints):\n",
        "    dist = np.sum((pos - waypoints)**2, axis=1)\n",
        "    wp_id = np.argmin(dist)\n",
        "    return waypoints[wp_id], wp_id\n",
        "\n",
        "\n",
        "def lane_change_waypoint(l1, l2, start_pos, forward_idx=26, delay_idx=4):\n",
        "    # l1: current lane, l2: target lane\n",
        "\n",
        "    init_wp, init_wp_id = get_waypoint_pos(start_pos, l1)\n",
        "\n",
        "    start_wp_id = delay_idx + init_wp_id\n",
        "\n",
        "    target_pos, target_id = get_waypoint_pos(l1[start_wp_id + forward_idx, :], l2)\n",
        "\n",
        "    r_temp = target_pos - l1[start_wp_id + forward_idx]\n",
        "    r_end = np.sum(r_temp ** 2) ** 0.5\n",
        "    r_temp /= np.hypot(r_temp[0], r_temp[1])\n",
        "\n",
        "    s_vector = np.zeros(forward_idx)\n",
        "    dist_vector = np.sum((l1[start_wp_id+1:start_wp_id+forward_idx, :]\n",
        "                          - l1[start_wp_id:start_wp_id+forward_idx-1, :])**2, axis=1)**0.5\n",
        "    s_vector[1:] = np.cumsum(dist_vector)\n",
        "\n",
        "    C = 0\n",
        "    A = (C*s_vector[-1] - 2*r_end) / s_vector[-1]**3\n",
        "    B = - (C + 3*A*s_vector[-1]**2) / (2*s_vector[-1])\n",
        "\n",
        "    r_vector = A*s_vector**3 + B*s_vector**2 + C*s_vector\n",
        "\n",
        "    grad = np.diff(l1[start_wp_id:start_wp_id+forward_idx], axis=0)\n",
        "    grad_norm = np.hypot(grad[:, 0], grad[:, 1])\n",
        "    p_vector = grad[:, [1, 0]] / grad_norm[:, None]  # perpendicular vector\n",
        "\n",
        "    testl = np.dot(r_temp, p_vector[-1, :] * [-1, 1])\n",
        "    testr = np.dot(r_temp, p_vector[-1, :] * [1, -1])\n",
        "    turn_dir = np.argmin([np.arccos(testl), np.arccos(testr)])\n",
        "    # left\n",
        "    if turn_dir == 0:\n",
        "        p_vector[:, 0] *= -1\n",
        "    # right\n",
        "    else:\n",
        "        p_vector[:, 1] *= -1\n",
        "\n",
        "    lane_change_path = l1[start_wp_id+1:start_wp_id+forward_idx] + p_vector*r_vector[1:, None]\n",
        "    _, start_id = get_waypoint_pos(lane_change_path[0], l1)\n",
        "    _, end_id = get_waypoint_pos(lane_change_path[-1], l2)\n",
        "    new_path = np.concatenate((l1[:start_id], lane_change_path, l2[end_id+1:]))\n",
        "\n",
        "    return new_path"
      ],
      "execution_count": null,
      "outputs": []
    },
    {
      "cell_type": "code",
      "metadata": {
        "id": "C2S_wopIa5rg"
      },
      "source": [
        "class Vehicle:\n",
        "  LENGTH = 5\n",
        "  WIDTH = 1.8\n",
        "  def __init__(self, init_state):\n",
        "    self.x, self.y, self.h, self.v = init_state\n",
        "\n",
        "  def veh_shape(self):\n",
        "    ang = np.arctan2(self.WIDTH/2, self.LENGTH/2)\n",
        "    sd = np.hypot(self.WIDTH/2, self.LENGTH/2)\n",
        "    shape = []\n",
        "    ang_list = [ang, np.pi-ang, np.pi+ang, -ang]\n",
        "    for i in range(4):\n",
        "      temp_ang = ang_list[i]\n",
        "      shape.append([self.x+sd*np.cos(temp_ang+self.h),\n",
        "                    self.y+sd*np.sin(temp_ang+self.h)])\n",
        "    \n",
        "    return np.array(shape)\n",
        "\n",
        "  def pure_pursuit(self, waypoint):\n",
        "    Kg, Kc = 0.3, 4\n",
        "    rear_pos = np.array([self.x, self.y]) - (self.LENGTH/4) * np.array([np.cos(self.h), np.sin(self.h)])\n",
        "    LOOK_AHEAD = Kg * self.v + Kc\n",
        "\n",
        "    # f_state = to_frenet2(np.array([[rear_pos[0], rear_pos[1]]]), self.reference_path[:, :2])[0]\n",
        "    # s, r, idx = f_state[0], f_state[1], f_state[2].astype('int')\n",
        "\n",
        "    target_x = self.x + LOOK_AHEAD*np.cos(self.h)\n",
        "    target_y = self.y + LOOK_AHEAD*np.sin(self.h)\n",
        "    \n",
        "    target_pos, _ = get_waypoint_pos([target_x, target_y], waypoint)\n",
        "    # x_ref, y_ref, _ = to_cartesian(np.array([s + LOOK_AHEAD]), np.array([0]), self.reference_path[:, :2], idx)\n",
        "    alpha = np.arctan2(target_pos[1]-rear_pos[1], target_pos[0]-rear_pos[0]) - self.h\n",
        "\n",
        "    l_dist = np.hypot(target_pos[1]-rear_pos[1], target_pos[0]-rear_pos[0])\n",
        "\n",
        "    delta_steer = np.arctan2(self.LENGTH*np.sin(alpha), l_dist)\n",
        "    # print(h, self.ego_state[:4], rear_pos, [x_ref, y_ref])\n",
        "    return delta_steer\n",
        "\n",
        "  def p_controller(self, target_speed):\n",
        "    Kp = 1\n",
        "    return Kp * (target_speed - self.v)\n",
        "\n",
        "  def update(self, target_speed, waypoint):\n",
        "    a = self.p_controller(target_speed)\n",
        "    delta_steer = self.pure_pursuit(waypoint)\n",
        "\n",
        "    self.x += self.v * np.cos(self.h) * dt\n",
        "    self.y += self.v * np.sin(self.h) * dt\n",
        "    self.h += self.v * np.tan(delta_steer) * dt / (self.LENGTH / 2)\n",
        "    self.v += a * dt \n",
        "\n"
      ],
      "execution_count": null,
      "outputs": []
    },
    {
      "cell_type": "code",
      "metadata": {
        "colab": {
          "base_uri": "https://localhost:8080/",
          "height": 269
        },
        "id": "5OZyLh4dXdGw",
        "outputId": "0f11539c-bbf7-485a-c6b9-7bd05072a159"
      },
      "source": [
        "ego = Vehicle(INIT_STATE)\n",
        "\n",
        "START_LANE_CHANGE = 40\n",
        "lane_change = False\n",
        "\n",
        "\n",
        "while ego.x < STOP:\n",
        "  if ego.x > START_LANE_CHANGE and not lane_change:\n",
        "    waypoint = lane_change_waypoint(lane_1, lane_2, [ego.x ,ego.y])\n",
        "    lane_change = True\n",
        "  if not lane_change:\n",
        "    waypoint = lane_1\n",
        "  \n",
        "  ego.update(TARGET_SPEED, waypoint)\n",
        "  plt.gca().cla()\n",
        "  plt.plot(lane_1[:, 0], lane_1[:, 1],\"k--\")\n",
        "  plt.plot(lane_2[:, 0], lane_2[:, 1],\"k--\")\n",
        "  plt.plot(waypoint[:, 0], waypoint[:, 1],\"r\")\n",
        "  ego_shape = ego.veh_shape()\n",
        "  plt.fill(ego_shape[:, 0], ego_shape[:, 1], \"b\")\n",
        "  plt.ylim((-1, 7))\n",
        "  # plt.axis(\"equal\")\n",
        "  display.display(plt.gcf())\n",
        "  display.clear_output(wait=True)\n",
        "\n",
        "  time.sleep(0.01)\n"
      ],
      "execution_count": null,
      "outputs": [
        {
          "output_type": "display_data",
          "data": {
            "image/png": "[encoded data removed]",
            "text/plain": [
              "<Figure size 432x288 with 1 Axes>"
            ]
          },
          "metadata": {
            "tags": [],
            "needs_background": "light"
          }
        }
      ]
    }
  ]
}